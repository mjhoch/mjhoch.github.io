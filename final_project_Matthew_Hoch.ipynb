{
  "nbformat": 4,
  "nbformat_minor": 0,
  "metadata": {
    "colab": {
      "provenance": []
    },
    "kernelspec": {
      "name": "python3",
      "display_name": "Python 3"
    },
    "language_info": {
      "name": "python"
    }
  },
  "cells": [
    {
      "cell_type": "markdown",
      "source": [
        "1. Danl-210 Final Project: Analyzing Companies by ESG"
      ],
      "metadata": {
        "id": "NhwFOnxFERzm"
      }
    },
    {
      "cell_type": "markdown",
      "source": [
        "2. Introduction\n",
        "\n",
        "Background: Companies that are publically traded have risk factors associated with their sustainability, as well as a controversy value determined by their relationship with the public.\n",
        "\n",
        "Statement of the Problem: We are analyzing the risk factors of certain companies to determine which on average are less or more risky based on their risk data and financial data."
      ],
      "metadata": {
        "id": "MIZ00Fs3Ehb7"
      }
    },
    {
      "cell_type": "markdown",
      "source": [
        "3. Data Collection\n",
        "\n",
        "*Python code provided on Brightspace"
      ],
      "metadata": {
        "id": "l1HL4Fu7GO-M"
      }
    },
    {
      "cell_type": "markdown",
      "source": [
        "4. Descriptive Stats"
      ],
      "metadata": {
        "id": "lfWz3aofGdmh"
      }
    },
    {
      "cell_type": "code",
      "source": [
        "risk_data = pd.read_csv('C://Users//Matthew//Downloads//final_project_data.csv')\n",
        "historical_data = pd.read_csv('C://Users//Matthew//Downloads//historical_data.csv')\n",
        "income_stmt = pd.read_csv('C://Users//Matthew//Downloads//income_statement.csv')\n",
        "balance_sheet = pd.read_csv('C://Users//Matthew//Downloads//balance_sheet.csv')\n",
        "\n",
        "col_names = ['index', 'symbol', 'esg_total_risk', 'environment_risk', 'government_risk', 'social_risk', 'controversy']\n",
        "risk_data.columns = col_names\n",
        "risk_data = risk_data.drop('index', axis=1)\n",
        "\n",
        "historical_data_new = historical_data.T\n",
        "col_names2 = historical_data['Price'].tolist()\n",
        "historical_data_new.columns = col_names2\n",
        "historical_data_new = historical_data_new.drop('Price')\n",
        "\n",
        "risk_analysis = risk_data.describe()\n",
        "historical_data_analysis = historical_data.describe()\n",
        "income_stmt_analysis = income_stmt.describe()\n",
        "grouped_income_stmt_analysis = income_stmt.groupby('company').describe()\n",
        "balance_sheet_analysis = balance_sheet.describe()\n",
        "grouped_balance_sheet_analysis = balance_sheet.groupby('company').describe()"
      ],
      "metadata": {
        "id": "MZZ6uWf9EQ8N"
      },
      "execution_count": null,
      "outputs": []
    },
    {
      "cell_type": "code",
      "source": [
        "corr = risk_analysis.corr()\n",
        "plt.figure(figsize=(8, 6))\n",
        "# - 'annot=True' enables annotations inside the squares with the correlation values\n",
        "# - 'cmap=\"coolwarm\"' assigns a color map from cool to warm (blue to red)\n",
        "# - 'fmt=\".2f\"' formats the annotations to two decimal places\n",
        "# - 'linewidths=.5' adds lines between each cell\n",
        "sns.heatmap(corr, annot=True, cmap='coolwarm', fmt=\".2f\", linewidths=.5)\n",
        "plt.title('Risk Data Correlations')\n",
        "plt.show()"
      ],
      "metadata": {
        "id": "bq_PX9kALpP6"
      },
      "execution_count": null,
      "outputs": []
    },
    {
      "cell_type": "code",
      "source": [
        "corr = income_stmt_analysis.corr()\n",
        "plt.figure(figsize=(8, 6))\n",
        "sns.heatmap(corr, annot=True, cmap='coolwarm', fmt=\".2f\", linewidths=.1)\n",
        "plt.title('Income Statement Data Correlations')\n",
        "plt.show()"
      ],
      "metadata": {
        "id": "23ALxfVELsAd"
      },
      "execution_count": null,
      "outputs": []
    },
    {
      "cell_type": "code",
      "source": [
        "corr = balance_sheet_analysis.corr()\n",
        "plt.figure(figsize=(8, 6))\n",
        "sns.heatmap(corr, annot=True, cmap='coolwarm', fmt=\".2f\", linewidths=.1)\n",
        "plt.title('Balance Sheet Data Correlations')\n",
        "plt.show()"
      ],
      "metadata": {
        "id": "aSMGpwinLuN-"
      },
      "execution_count": null,
      "outputs": []
    },
    {
      "cell_type": "code",
      "source": [
        "sns.histplot(data=risk_data, x='symbol', y='esg_total_risk')"
      ],
      "metadata": {
        "id": "p0gaDOgpLwm8"
      },
      "execution_count": null,
      "outputs": []
    },
    {
      "cell_type": "markdown",
      "source": [
        "5. Exploratory Data Analysis\n",
        "\n",
        "Which companies are more risky than others?"
      ],
      "metadata": {
        "id": "-YWtbA9YGo0m"
      }
    },
    {
      "cell_type": "markdown",
      "source": [
        "6. Significance of the Project\n",
        "\n",
        "ESG has become more significant recently as environmentalism and sustainability have become more prominent in society. Despite ESG being rather costly for companies to employ, there are some who maintain lower risk values with success."
      ],
      "metadata": {
        "id": "bqo_-IdvI3Zg"
      }
    },
    {
      "cell_type": "markdown",
      "source": [
        "7. References\n",
        "\n",
        "ESG is essential for companies to maintain their social license. (2022, August 10). McKinsey. Retrieved May 16, 2024, from https://www.mckinsey.com/capabilities/sustainability/our-insights/does-esg-really-matter-and-why"
      ],
      "metadata": {
        "id": "Rc-nYEBuLJiC"
      }
    }
  ]
}
